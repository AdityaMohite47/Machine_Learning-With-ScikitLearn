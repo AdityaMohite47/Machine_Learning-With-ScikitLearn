{
 "cells": [
  {
   "cell_type": "markdown",
   "metadata": {},
   "source": [
    "<h5> A Linear-Regression model to predict the SalePrice of a house\n",
    "based on the data \"AMES_FINAL_DF.csv\" </h5>"
   ]
  },
  {
   "cell_type": "code",
   "execution_count": 2,
   "metadata": {},
   "outputs": [],
   "source": [
    "import numpy as np\n",
    "import pandas as pd\n",
    "import matplotlib.pyplot as plt\n",
    "import seaborn as sns\n",
    "\n",
    "data = pd.read_csv(\"./Datasets/AMES_FINAL_DF.csv\")"
   ]
  },
  {
   "cell_type": "code",
   "execution_count": 3,
   "metadata": {},
   "outputs": [
    {
     "name": "stdout",
     "output_type": "stream",
     "text": [
      "<class 'pandas.core.frame.DataFrame'>\n",
      "RangeIndex: 2925 entries, 0 to 2924\n",
      "Columns: 274 entries, Lot Frontage to Sale Condition_Partial\n",
      "dtypes: float64(11), int64(263)\n",
      "memory usage: 6.1 MB\n"
     ]
    }
   ],
   "source": [
    "data.sample(10)\n",
    "data.info()"
   ]
  },
  {
   "cell_type": "code",
   "execution_count": 4,
   "metadata": {},
   "outputs": [],
   "source": [
    "# Seprating Labels\n",
    "X = data.drop('SalePrice' , axis=1)\n",
    "y = data['SalePrice']"
   ]
  },
  {
   "cell_type": "code",
   "execution_count": 5,
   "metadata": {},
   "outputs": [],
   "source": [
    "from sklearn.model_selection import train_test_split\n",
    "from sklearn.preprocessing import StandardScaler\n",
    "\n",
    "X_train , X_test , y_train , y_test = train_test_split(X , y , random_state=42 , test_size=0.1)\n",
    "\n",
    "scaler = StandardScaler()\n",
    "X_train = scaler.fit_transform(X_train)\n",
    "X_test = scaler.transform(X_test)"
   ]
  },
  {
   "cell_type": "code",
   "execution_count": 6,
   "metadata": {},
   "outputs": [
    {
     "name": "stdout",
     "output_type": "stream",
     "text": [
      "{'alpha': 0.99, 'l1_ratio': 0.95}\n"
     ]
    }
   ],
   "source": [
    "from sklearn.linear_model import ElasticNet\n",
    "from sklearn.model_selection import GridSearchCV\n",
    "\n",
    "MODEL = ElasticNet(max_iter=100000)\n",
    "\n",
    "prams_grid = {\n",
    "    'l1_ratio': [0.1 , 0.5 , 0.77 , 0.95 , 1],\n",
    "    'alpha':[0.99 , 1 , 2 , 3 , 5]\n",
    "}\n",
    "\n",
    "Grid_Search_Model = GridSearchCV(estimator=MODEL , param_grid=prams_grid , cv=5 , scoring='neg_root_mean_squared_error')\n",
    "Grid_Search_Model.fit(X_train , y_train)\n",
    "\n",
    "print(Grid_Search_Model.best_params_)\n",
    "\n"
   ]
  },
  {
   "cell_type": "code",
   "execution_count": 7,
   "metadata": {},
   "outputs": [
    {
     "name": "stdout",
     "output_type": "stream",
     "text": [
      "13851.04299852958\n",
      "21964.480975143433\n"
     ]
    }
   ],
   "source": [
    "from sklearn.metrics import mean_absolute_error , mean_squared_error\n",
    "\n",
    "y_pred = Grid_Search_Model.predict(X_test)\n",
    "print(mean_absolute_error(y_test , y_pred ))\n",
    "print(np.sqrt(mean_squared_error(y_test , y_pred )))"
   ]
  }
 ],
 "metadata": {
  "kernelspec": {
   "display_name": "Python 3",
   "language": "python",
   "name": "python3"
  },
  "language_info": {
   "codemirror_mode": {
    "name": "ipython",
    "version": 3
   },
   "file_extension": ".py",
   "mimetype": "text/x-python",
   "name": "python",
   "nbconvert_exporter": "python",
   "pygments_lexer": "ipython3",
   "version": "3.12.4"
  }
 },
 "nbformat": 4,
 "nbformat_minor": 2
}
